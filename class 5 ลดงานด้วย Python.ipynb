{
 "cells": [
  {
   "cell_type": "markdown",
   "metadata": {},
   "source": [
    "## ติดตั้งเครื่องมือ"
   ]
  },
  {
   "cell_type": "markdown",
   "metadata": {},
   "source": [
    "pandas สำหรับการจัดการข้อมูล คำนวนข้อมูลตาราง"
   ]
  },
  {
   "cell_type": "code",
   "execution_count": 8,
   "metadata": {},
   "outputs": [
    {
     "name": "stdout",
     "output_type": "stream",
     "text": [
      "Requirement already satisfied: pandas in c:\\users\\acer\\anaconda3\\lib\\site-packages (1.0.5)\n",
      "Requirement already satisfied: python-dateutil>=2.6.1 in c:\\users\\acer\\anaconda3\\lib\\site-packages (from pandas) (2.8.1)\n",
      "Requirement already satisfied: numpy>=1.13.3 in c:\\users\\acer\\anaconda3\\lib\\site-packages (from pandas) (1.19.5)\n",
      "Requirement already satisfied: pytz>=2017.2 in c:\\users\\acer\\anaconda3\\lib\\site-packages (from pandas) (2020.1)\n",
      "Requirement already satisfied: six>=1.5 in c:\\users\\acer\\anaconda3\\lib\\site-packages (from python-dateutil>=2.6.1->pandas) (1.15.0)\n"
     ]
    }
   ],
   "source": [
    "!pip install pandas"
   ]
  },
  {
   "cell_type": "markdown",
   "metadata": {},
   "source": [
    "openpyxl สำหรับการเปิดใช้ไฟล์ Excel"
   ]
  },
  {
   "cell_type": "code",
   "execution_count": 9,
   "metadata": {},
   "outputs": [
    {
     "name": "stdout",
     "output_type": "stream",
     "text": [
      "Requirement already satisfied: openpyxl in c:\\users\\acer\\anaconda3\\lib\\site-packages (3.0.4)\n",
      "Requirement already satisfied: jdcal in c:\\users\\acer\\anaconda3\\lib\\site-packages (from openpyxl) (1.4.1)\n",
      "Requirement already satisfied: et-xmlfile in c:\\users\\acer\\anaconda3\\lib\\site-packages (from openpyxl) (1.0.1)\n"
     ]
    }
   ],
   "source": [
    "!pip install openpyxl"
   ]
  },
  {
   "cell_type": "markdown",
   "metadata": {},
   "source": [
    " "
   ]
  },
  {
   "cell_type": "markdown",
   "metadata": {},
   "source": [
    "## นำเข้าข้อมูลมาใช้งาน"
   ]
  },
  {
   "cell_type": "code",
   "execution_count": 2,
   "metadata": {},
   "outputs": [],
   "source": [
    "import pandas as pd"
   ]
  },
  {
   "cell_type": "markdown",
   "metadata": {},
   "source": [
    " "
   ]
  },
  {
   "cell_type": "markdown",
   "metadata": {},
   "source": [
    "## เปิดไฟล์ที่ต้องการ"
   ]
  },
  {
   "cell_type": "markdown",
   "metadata": {},
   "source": [
    "ใช้การระบุ path file ที่ต้องการ กับคำสั่ง pd.read_excel()"
   ]
  },
  {
   "cell_type": "code",
   "execution_count": 45,
   "metadata": {},
   "outputs": [],
   "source": [
    "south = pd.read_excel(r'C:\\Users\\acer\\Desktop\\fb ultimate python\\library os\\Excel\\sub excel\\sub sub excel\\South.xlsx',engine='openpyxl',header=0)"
   ]
  },
  {
   "cell_type": "markdown",
   "metadata": {},
   "source": [
    "  "
   ]
  },
  {
   "cell_type": "markdown",
   "metadata": {},
   "source": [
    "## ตั้งชื่อ row"
   ]
  },
  {
   "cell_type": "markdown",
   "metadata": {},
   "source": [
    "ใช้คำสั่ง set_index() รับชื่อ column ที่ต้องการ"
   ]
  },
  {
   "cell_type": "code",
   "execution_count": 47,
   "metadata": {},
   "outputs": [],
   "source": [
    "south = south.set_index('Product')"
   ]
  },
  {
   "cell_type": "markdown",
   "metadata": {},
   "source": [
    "  "
   ]
  },
  {
   "cell_type": "markdown",
   "metadata": {},
   "source": [
    "## ทำซ้ำกับไฟล์ใหม่"
   ]
  },
  {
   "cell_type": "code",
   "execution_count": 118,
   "metadata": {},
   "outputs": [],
   "source": [
    "north = pd.read_csv(r'C:\\Users\\acer\\Desktop\\fb ultimate python\\library os\\Excel\\sub excel\\sub sub excel\\North.csv')"
   ]
  },
  {
   "cell_type": "code",
   "execution_count": 119,
   "metadata": {},
   "outputs": [],
   "source": [
    "north = north.set_index('Product')"
   ]
  },
  {
   "cell_type": "markdown",
   "metadata": {},
   "source": [
    "  "
   ]
  },
  {
   "cell_type": "markdown",
   "metadata": {},
   "source": [
    "## การใช้ For Loop กับ DataFrame"
   ]
  },
  {
   "cell_type": "markdown",
   "metadata": {},
   "source": [
    "การใช้ For Loop ธรรมดา"
   ]
  },
  {
   "cell_type": "code",
   "execution_count": 100,
   "metadata": {},
   "outputs": [
    {
     "name": "stdout",
     "output_type": "stream",
     "text": [
      "Qtr1\n",
      "Qtr2\n",
      "Qtr3\n",
      "Qtr4\n"
     ]
    }
   ],
   "source": [
    "for s in south:\n",
    "    print(s)"
   ]
  },
  {
   "cell_type": "markdown",
   "metadata": {},
   "source": [
    ".itertuples()"
   ]
  },
  {
   "cell_type": "code",
   "execution_count": 109,
   "metadata": {
    "scrolled": true
   },
   "outputs": [
    {
     "name": "stdout",
     "output_type": "stream",
     "text": [
      "['Basil Leaf (Whole)', 8566, 9556, 8554, 7886]\n",
      "['Celery Seed (Whole)', 8332, 8372, 7427, 5783]\n",
      "['South Special', 4215, 1245, 3562, 2154]\n",
      "['Caraway Seed (Whole)', 854, 966, 673, 755]\n",
      "['Catnip Leaf', 854, 364, 474, 733]\n",
      "['Anise Seeds', 833, 733, 1065, 1198]\n",
      "['Cardamom Seed (Ground)', 822, 583, 833, 834]\n",
      "['Asafoetida Powder', 753, 844, 1024, 1157]\n",
      "['Bay Leaf (Whole)', 577, 855, 844, 734]\n",
      "['Chamomile Flowers', 372, 842, 465, 366]\n",
      "['Cardamom Seed (Whole)', 357, 733, 753, 632]\n"
     ]
    }
   ],
   "source": [
    "for data in south.itertuples():\n",
    "    print(list(data))"
   ]
  },
  {
   "cell_type": "markdown",
   "metadata": {},
   "source": [
    ".iterrows()"
   ]
  },
  {
   "cell_type": "code",
   "execution_count": 107,
   "metadata": {
    "scrolled": true
   },
   "outputs": [
    {
     "name": "stdout",
     "output_type": "stream",
     "text": [
      "Basil Leaf (Whole)\n",
      "Celery Seed (Whole)\n",
      "South Special\n",
      "Caraway Seed (Whole)\n",
      "Catnip Leaf\n",
      "Anise Seeds\n",
      "Cardamom Seed (Ground)\n",
      "Asafoetida Powder\n",
      "Bay Leaf (Whole)\n",
      "Chamomile Flowers\n",
      "Cardamom Seed (Whole)\n"
     ]
    }
   ],
   "source": [
    "for row, data in south.iterrows():\n",
    "    print(row)"
   ]
  },
  {
   "cell_type": "markdown",
   "metadata": {},
   "source": [
    ".iteritems()"
   ]
  },
  {
   "cell_type": "code",
   "execution_count": 110,
   "metadata": {
    "scrolled": true
   },
   "outputs": [
    {
     "name": "stdout",
     "output_type": "stream",
     "text": [
      "8566\n",
      "8332\n",
      "4215\n",
      "854\n",
      "854\n",
      "833\n",
      "822\n",
      "753\n",
      "577\n",
      "372\n",
      "357\n",
      "9556\n",
      "8372\n",
      "1245\n",
      "966\n",
      "364\n",
      "733\n",
      "583\n",
      "844\n",
      "855\n",
      "842\n",
      "733\n",
      "8554\n",
      "7427\n",
      "3562\n",
      "673\n",
      "474\n",
      "1065\n",
      "833\n",
      "1024\n",
      "844\n",
      "465\n",
      "753\n",
      "7886\n",
      "5783\n",
      "2154\n",
      "755\n",
      "733\n",
      "1198\n",
      "834\n",
      "1157\n",
      "734\n",
      "366\n",
      "632\n"
     ]
    }
   ],
   "source": [
    "for column, data in south.iteritems():\n",
    "    for d in data:\n",
    "        print(d)"
   ]
  },
  {
   "cell_type": "markdown",
   "metadata": {},
   "source": [
    "  "
   ]
  },
  {
   "cell_type": "markdown",
   "metadata": {},
   "source": [
    "## การสร้าง Filter"
   ]
  },
  {
   "cell_type": "markdown",
   "metadata": {},
   "source": [
    "ใช้การเปรียบเทียบเพียงดึงข้อมูลด้วยการกำหนดเงื่อนไข"
   ]
  },
  {
   "cell_type": "code",
   "execution_count": 94,
   "metadata": {
    "scrolled": false
   },
   "outputs": [
    {
     "data": {
      "text/html": [
       "<div>\n",
       "<style scoped>\n",
       "    .dataframe tbody tr th:only-of-type {\n",
       "        vertical-align: middle;\n",
       "    }\n",
       "\n",
       "    .dataframe tbody tr th {\n",
       "        vertical-align: top;\n",
       "    }\n",
       "\n",
       "    .dataframe thead th {\n",
       "        text-align: right;\n",
       "    }\n",
       "</style>\n",
       "<table border=\"1\" class=\"dataframe\">\n",
       "  <thead>\n",
       "    <tr style=\"text-align: right;\">\n",
       "      <th></th>\n",
       "      <th>Qtr1</th>\n",
       "      <th>Qtr2</th>\n",
       "      <th>Qtr3</th>\n",
       "      <th>Qtr4</th>\n",
       "    </tr>\n",
       "    <tr>\n",
       "      <th>Product</th>\n",
       "      <th></th>\n",
       "      <th></th>\n",
       "      <th></th>\n",
       "      <th></th>\n",
       "    </tr>\n",
       "  </thead>\n",
       "  <tbody>\n",
       "    <tr>\n",
       "      <th>Basil Leaf (Whole)</th>\n",
       "      <td>8566</td>\n",
       "      <td>9556</td>\n",
       "      <td>8554</td>\n",
       "      <td>7886</td>\n",
       "    </tr>\n",
       "    <tr>\n",
       "      <th>Celery Seed (Whole)</th>\n",
       "      <td>8332</td>\n",
       "      <td>8372</td>\n",
       "      <td>7427</td>\n",
       "      <td>5783</td>\n",
       "    </tr>\n",
       "  </tbody>\n",
       "</table>\n",
       "</div>"
      ],
      "text/plain": [
       "                     Qtr1  Qtr2  Qtr3  Qtr4\n",
       "Product                                    \n",
       "Basil Leaf (Whole)   8566  9556  8554  7886\n",
       "Celery Seed (Whole)  8332  8372  7427  5783"
      ]
     },
     "execution_count": 94,
     "metadata": {},
     "output_type": "execute_result"
    }
   ],
   "source": [
    "south[(south['Qtr1'] > 1000) & (south['Qtr3'] > 4000)]"
   ]
  },
  {
   "cell_type": "markdown",
   "metadata": {},
   "source": [
    "  "
   ]
  },
  {
   "cell_type": "markdown",
   "metadata": {},
   "source": [
    "## การดึงข้อมูล"
   ]
  },
  {
   "cell_type": "markdown",
   "metadata": {},
   "source": [
    "การดึงข้อมูลด้วยชื่อ row"
   ]
  },
  {
   "cell_type": "code",
   "execution_count": 81,
   "metadata": {},
   "outputs": [
    {
     "data": {
      "text/html": [
       "<div>\n",
       "<style scoped>\n",
       "    .dataframe tbody tr th:only-of-type {\n",
       "        vertical-align: middle;\n",
       "    }\n",
       "\n",
       "    .dataframe tbody tr th {\n",
       "        vertical-align: top;\n",
       "    }\n",
       "\n",
       "    .dataframe thead th {\n",
       "        text-align: right;\n",
       "    }\n",
       "</style>\n",
       "<table border=\"1\" class=\"dataframe\">\n",
       "  <thead>\n",
       "    <tr style=\"text-align: right;\">\n",
       "      <th></th>\n",
       "      <th>Qtr1</th>\n",
       "      <th>Qtr2</th>\n",
       "      <th>Qtr3</th>\n",
       "      <th>Qtr4</th>\n",
       "    </tr>\n",
       "    <tr>\n",
       "      <th>Product</th>\n",
       "      <th></th>\n",
       "      <th></th>\n",
       "      <th></th>\n",
       "      <th></th>\n",
       "    </tr>\n",
       "  </thead>\n",
       "  <tbody>\n",
       "    <tr>\n",
       "      <th>Catnip Leaf</th>\n",
       "      <td>854</td>\n",
       "      <td>364</td>\n",
       "      <td>474</td>\n",
       "      <td>733</td>\n",
       "    </tr>\n",
       "    <tr>\n",
       "      <th>Bay Leaf (Whole)</th>\n",
       "      <td>577</td>\n",
       "      <td>855</td>\n",
       "      <td>844</td>\n",
       "      <td>734</td>\n",
       "    </tr>\n",
       "  </tbody>\n",
       "</table>\n",
       "</div>"
      ],
      "text/plain": [
       "                  Qtr1  Qtr2  Qtr3  Qtr4\n",
       "Product                                 \n",
       "Catnip Leaf        854   364   474   733\n",
       "Bay Leaf (Whole)   577   855   844   734"
      ]
     },
     "execution_count": 81,
     "metadata": {},
     "output_type": "execute_result"
    }
   ],
   "source": [
    "south.loc[['Catnip Leaf','Bay Leaf (Whole)']]"
   ]
  },
  {
   "cell_type": "markdown",
   "metadata": {},
   "source": [
    "การดึงข้อมูลด้วยชื่อ column"
   ]
  },
  {
   "cell_type": "code",
   "execution_count": 80,
   "metadata": {},
   "outputs": [
    {
     "data": {
      "text/html": [
       "<div>\n",
       "<style scoped>\n",
       "    .dataframe tbody tr th:only-of-type {\n",
       "        vertical-align: middle;\n",
       "    }\n",
       "\n",
       "    .dataframe tbody tr th {\n",
       "        vertical-align: top;\n",
       "    }\n",
       "\n",
       "    .dataframe thead th {\n",
       "        text-align: right;\n",
       "    }\n",
       "</style>\n",
       "<table border=\"1\" class=\"dataframe\">\n",
       "  <thead>\n",
       "    <tr style=\"text-align: right;\">\n",
       "      <th></th>\n",
       "      <th>Qtr1</th>\n",
       "      <th>Qtr3</th>\n",
       "    </tr>\n",
       "    <tr>\n",
       "      <th>Product</th>\n",
       "      <th></th>\n",
       "      <th></th>\n",
       "    </tr>\n",
       "  </thead>\n",
       "  <tbody>\n",
       "    <tr>\n",
       "      <th>Basil Leaf (Whole)</th>\n",
       "      <td>8566</td>\n",
       "      <td>8554</td>\n",
       "    </tr>\n",
       "    <tr>\n",
       "      <th>Celery Seed (Whole)</th>\n",
       "      <td>8332</td>\n",
       "      <td>7427</td>\n",
       "    </tr>\n",
       "    <tr>\n",
       "      <th>South Special</th>\n",
       "      <td>4215</td>\n",
       "      <td>3562</td>\n",
       "    </tr>\n",
       "    <tr>\n",
       "      <th>Caraway Seed (Whole)</th>\n",
       "      <td>854</td>\n",
       "      <td>673</td>\n",
       "    </tr>\n",
       "    <tr>\n",
       "      <th>Catnip Leaf</th>\n",
       "      <td>854</td>\n",
       "      <td>474</td>\n",
       "    </tr>\n",
       "    <tr>\n",
       "      <th>Anise Seeds</th>\n",
       "      <td>833</td>\n",
       "      <td>1065</td>\n",
       "    </tr>\n",
       "    <tr>\n",
       "      <th>Cardamom Seed (Ground)</th>\n",
       "      <td>822</td>\n",
       "      <td>833</td>\n",
       "    </tr>\n",
       "    <tr>\n",
       "      <th>Asafoetida Powder</th>\n",
       "      <td>753</td>\n",
       "      <td>1024</td>\n",
       "    </tr>\n",
       "    <tr>\n",
       "      <th>Bay Leaf (Whole)</th>\n",
       "      <td>577</td>\n",
       "      <td>844</td>\n",
       "    </tr>\n",
       "    <tr>\n",
       "      <th>Chamomile Flowers</th>\n",
       "      <td>372</td>\n",
       "      <td>465</td>\n",
       "    </tr>\n",
       "    <tr>\n",
       "      <th>Cardamom Seed (Whole)</th>\n",
       "      <td>357</td>\n",
       "      <td>753</td>\n",
       "    </tr>\n",
       "  </tbody>\n",
       "</table>\n",
       "</div>"
      ],
      "text/plain": [
       "                        Qtr1  Qtr3\n",
       "Product                           \n",
       "Basil Leaf (Whole)      8566  8554\n",
       "Celery Seed (Whole)     8332  7427\n",
       "South Special           4215  3562\n",
       "Caraway Seed (Whole)     854   673\n",
       "Catnip Leaf              854   474\n",
       "Anise Seeds              833  1065\n",
       "Cardamom Seed (Ground)   822   833\n",
       "Asafoetida Powder        753  1024\n",
       "Bay Leaf (Whole)         577   844\n",
       "Chamomile Flowers        372   465\n",
       "Cardamom Seed (Whole)    357   753"
      ]
     },
     "execution_count": 80,
     "metadata": {},
     "output_type": "execute_result"
    }
   ],
   "source": [
    "south[['Qtr1','Qtr3']]"
   ]
  },
  {
   "cell_type": "markdown",
   "metadata": {},
   "source": [
    "การดึงข้อมูลด้วยชื่อ ตำแหน่ง row, column"
   ]
  },
  {
   "cell_type": "code",
   "execution_count": 88,
   "metadata": {},
   "outputs": [
    {
     "data": {
      "text/plain": [
       "Series([], Name: Qtr2, dtype: int64)"
      ]
     },
     "execution_count": 88,
     "metadata": {},
     "output_type": "execute_result"
    }
   ],
   "source": [
    "south.iloc[0,1]"
   ]
  },
  {
   "cell_type": "markdown",
   "metadata": {},
   "source": [
    "  "
   ]
  },
  {
   "cell_type": "markdown",
   "metadata": {},
   "source": [
    "## การทำงานกับ Series"
   ]
  },
  {
   "cell_type": "markdown",
   "metadata": {},
   "source": [
    "การดึง index, value ด้วย .iteritems()"
   ]
  },
  {
   "cell_type": "code",
   "execution_count": 125,
   "metadata": {},
   "outputs": [],
   "source": [
    "ser = south['Qtr1']"
   ]
  },
  {
   "cell_type": "code",
   "execution_count": 130,
   "metadata": {},
   "outputs": [
    {
     "name": "stdout",
     "output_type": "stream",
     "text": [
      "Basil Leaf (Whole) 8566\n",
      "Celery Seed (Whole) 8332\n",
      "South Special 4215\n",
      "Caraway Seed (Whole) 854\n",
      "Catnip Leaf 854\n",
      "Anise Seeds 833\n",
      "Cardamom Seed (Ground) 822\n",
      "Asafoetida Powder 753\n",
      "Bay Leaf (Whole) 577\n",
      "Chamomile Flowers 372\n",
      "Cardamom Seed (Whole) 357\n"
     ]
    }
   ],
   "source": [
    "for i, d in ser.iteritems():\n",
    "    print(i,d)"
   ]
  },
  {
   "cell_type": "markdown",
   "metadata": {},
   "source": [
    "  "
   ]
  },
  {
   "cell_type": "markdown",
   "metadata": {},
   "source": [
    "## การแก้ไขข้อมูล"
   ]
  },
  {
   "cell_type": "markdown",
   "metadata": {},
   "source": [
    "ด้วยการกำหนดค่าสำหรับ column,row ที่กำหนด"
   ]
  },
  {
   "cell_type": "code",
   "execution_count": 114,
   "metadata": {},
   "outputs": [],
   "source": [
    "north['Qtr1']['Basil Leaf (Whole)'] = 6778"
   ]
  },
  {
   "cell_type": "markdown",
   "metadata": {},
   "source": [
    "  "
   ]
  },
  {
   "cell_type": "markdown",
   "metadata": {},
   "source": [
    "## การแก้ไขข้อมูล ด้วย for loop"
   ]
  },
  {
   "cell_type": "markdown",
   "metadata": {},
   "source": [
    "แก้ไขข้อมูลทั้ง DataFrame"
   ]
  },
  {
   "cell_type": "code",
   "execution_count": 131,
   "metadata": {},
   "outputs": [],
   "source": [
    "for column, cd in north.iteritems():\n",
    "    for i, data in cd.iteritems():\n",
    "        north[column][i] = int(data[1:].replace(',',''))"
   ]
  },
  {
   "cell_type": "markdown",
   "metadata": {},
   "source": [
    "  "
   ]
  },
  {
   "cell_type": "markdown",
   "metadata": {},
   "source": [
    "## การเช็คประเภทข้อมูล"
   ]
  },
  {
   "cell_type": "markdown",
   "metadata": {},
   "source": [
    "ดู object ข้อมูลที่อยู่ใน DataFrame"
   ]
  },
  {
   "cell_type": "code",
   "execution_count": 138,
   "metadata": {},
   "outputs": [
    {
     "data": {
      "text/plain": [
       "Qtr1    object\n",
       "Qtr2    object\n",
       "Qtr3    object\n",
       "Qtr4    object\n",
       "dtype: object"
      ]
     },
     "execution_count": 138,
     "metadata": {},
     "output_type": "execute_result"
    }
   ],
   "source": [
    "north.dtypes"
   ]
  },
  {
   "cell_type": "markdown",
   "metadata": {},
   "source": [
    "  "
   ]
  },
  {
   "cell_type": "markdown",
   "metadata": {},
   "source": [
    "## การเลือกแสดงข้อมูล"
   ]
  },
  {
   "cell_type": "markdown",
   "metadata": {},
   "source": [
    "กำหนด Object ที่ต้องการด้วย .astype()"
   ]
  },
  {
   "cell_type": "code",
   "execution_count": 137,
   "metadata": {},
   "outputs": [
    {
     "data": {
      "text/html": [
       "<div>\n",
       "<style scoped>\n",
       "    .dataframe tbody tr th:only-of-type {\n",
       "        vertical-align: middle;\n",
       "    }\n",
       "\n",
       "    .dataframe tbody tr th {\n",
       "        vertical-align: top;\n",
       "    }\n",
       "\n",
       "    .dataframe thead th {\n",
       "        text-align: right;\n",
       "    }\n",
       "</style>\n",
       "<table border=\"1\" class=\"dataframe\">\n",
       "  <thead>\n",
       "    <tr style=\"text-align: right;\">\n",
       "      <th></th>\n",
       "      <th>Qtr1</th>\n",
       "      <th>Qtr2</th>\n",
       "      <th>Qtr3</th>\n",
       "      <th>Qtr4</th>\n",
       "    </tr>\n",
       "    <tr>\n",
       "      <th>Product</th>\n",
       "      <th></th>\n",
       "      <th></th>\n",
       "      <th></th>\n",
       "      <th></th>\n",
       "    </tr>\n",
       "  </thead>\n",
       "  <tbody>\n",
       "    <tr>\n",
       "      <th>Basil Leaf (Whole)</th>\n",
       "      <td>6778</td>\n",
       "      <td>6760</td>\n",
       "      <td>4568</td>\n",
       "      <td>7834</td>\n",
       "    </tr>\n",
       "    <tr>\n",
       "      <th>Celery Seed (Whole)</th>\n",
       "      <td>3634</td>\n",
       "      <td>6344</td>\n",
       "      <td>6423</td>\n",
       "      <td>2546</td>\n",
       "    </tr>\n",
       "    <tr>\n",
       "      <th>North Special</th>\n",
       "      <td>875</td>\n",
       "      <td>1452</td>\n",
       "      <td>254</td>\n",
       "      <td>2451</td>\n",
       "    </tr>\n",
       "    <tr>\n",
       "      <th>Catnip Leaf</th>\n",
       "      <td>854</td>\n",
       "      <td>364</td>\n",
       "      <td>474</td>\n",
       "      <td>743</td>\n",
       "    </tr>\n",
       "    <tr>\n",
       "      <th>Asafoetida Powder</th>\n",
       "      <td>654</td>\n",
       "      <td>634</td>\n",
       "      <td>326</td>\n",
       "      <td>754</td>\n",
       "    </tr>\n",
       "    <tr>\n",
       "      <th>Anise Seeds</th>\n",
       "      <td>534</td>\n",
       "      <td>423</td>\n",
       "      <td>521</td>\n",
       "      <td>625</td>\n",
       "    </tr>\n",
       "    <tr>\n",
       "      <th>Cardamom Seed (Ground)</th>\n",
       "      <td>422</td>\n",
       "      <td>642</td>\n",
       "      <td>642</td>\n",
       "      <td>624</td>\n",
       "    </tr>\n",
       "    <tr>\n",
       "      <th>Chamomile Flowers</th>\n",
       "      <td>356</td>\n",
       "      <td>634</td>\n",
       "      <td>632</td>\n",
       "      <td>743</td>\n",
       "    </tr>\n",
       "    <tr>\n",
       "      <th>Caraway Seed (Whole)</th>\n",
       "      <td>354</td>\n",
       "      <td>633</td>\n",
       "      <td>422</td>\n",
       "      <td>255</td>\n",
       "    </tr>\n",
       "    <tr>\n",
       "      <th>Cardamom Seed (Whole)</th>\n",
       "      <td>255</td>\n",
       "      <td>525</td>\n",
       "      <td>252</td>\n",
       "      <td>624</td>\n",
       "    </tr>\n",
       "    <tr>\n",
       "      <th>Bay Leaf (Whole)</th>\n",
       "      <td>233</td>\n",
       "      <td>532</td>\n",
       "      <td>525</td>\n",
       "      <td>652</td>\n",
       "    </tr>\n",
       "  </tbody>\n",
       "</table>\n",
       "</div>"
      ],
      "text/plain": [
       "                        Qtr1  Qtr2  Qtr3  Qtr4\n",
       "Product                                       \n",
       "Basil Leaf (Whole)      6778  6760  4568  7834\n",
       "Celery Seed (Whole)     3634  6344  6423  2546\n",
       "North Special            875  1452   254  2451\n",
       "Catnip Leaf              854   364   474   743\n",
       "Asafoetida Powder        654   634   326   754\n",
       "Anise Seeds              534   423   521   625\n",
       "Cardamom Seed (Ground)   422   642   642   624\n",
       "Chamomile Flowers        356   634   632   743\n",
       "Caraway Seed (Whole)     354   633   422   255\n",
       "Cardamom Seed (Whole)    255   525   252   624\n",
       "Bay Leaf (Whole)         233   532   525   652"
      ]
     },
     "execution_count": 137,
     "metadata": {},
     "output_type": "execute_result"
    }
   ],
   "source": [
    "north.astype('int')"
   ]
  }
 ],
 "metadata": {
  "kernelspec": {
   "display_name": "Python 3",
   "language": "python",
   "name": "python3"
  },
  "language_info": {
   "codemirror_mode": {
    "name": "ipython",
    "version": 3
   },
   "file_extension": ".py",
   "mimetype": "text/x-python",
   "name": "python",
   "nbconvert_exporter": "python",
   "pygments_lexer": "ipython3",
   "version": "3.7.7"
  }
 },
 "nbformat": 4,
 "nbformat_minor": 4
}
